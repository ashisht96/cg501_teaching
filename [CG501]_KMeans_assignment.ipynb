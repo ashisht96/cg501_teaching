{
 "cells": [
  {
   "cell_type": "code",
   "execution_count": null,
   "metadata": {},
   "outputs": [],
   "source": [
    "import numpy as np\n",
    "from sklearn.datasets import load_iris\n",
    "import matplotlib.pyplot as plt\n",
    "import matplotlib"
   ]
  },
  {
   "cell_type": "code",
   "execution_count": null,
   "metadata": {},
   "outputs": [],
   "source": [
    "matplotlib.rcParams['figure.figsize'] = 16,9"
   ]
  },
  {
   "cell_type": "code",
   "execution_count": null,
   "metadata": {},
   "outputs": [],
   "source": [
    "def get_distance(x,y):   \n",
    "    return ?? # use np.sum() and np.sqrt() to calculate euclidean distance between x and y\n",
    "\n",
    "def kMeans(data, n_clusters, n_iter=20):\n",
    "    # initially, we start with random cluster centers\n",
    "    n_samples = ?? # number of samples in data\n",
    "    cluster_centers = []\n",
    "    for _ in range(n_clusters):\n",
    "        indx = ?? # pick a random index for data[]. hint: np.random.choice\n",
    "        cluster_centers.append(data[indx])\n",
    "\n",
    "    # iterate to get increasingly better clusters\n",
    "    for _ in range(n_iter):\n",
    "        # reset cluster labels\n",
    "        cluster_labels = []    \n",
    "        # calculate cluster label for all data points\n",
    "        for i in range(n_samples):\n",
    "            distances = ?? # list of distances (as returned by get_distance) of this data point, with all cluster centers. hint: use list comprehension\n",
    "            assigned_cluster = ?? # minimum value of distances. hint: numpy has a function for exactly this purpose\n",
    "            cluster_labels.append(assigned_cluster)\n",
    "        cluster_labels = np.array(cluster_labels)\n",
    "\n",
    "        # reset the cluster centers\n",
    "        cluster_centers = []\n",
    "        # update cluster centers\n",
    "        for i in range(n_clusters):\n",
    "            # get the data points which (supposedly) belong to i-th cluster\n",
    "            clust_indx_i = ?? # the indexes where cluster_labels is equal to current cluster number. hint: use np.where\n",
    "            clust_indx_i_data = data[clust_indx_i]\n",
    "            new_clust_center = ?? # centroid of the points in clust_indx_i_data. hint: use np.mean with axis=0\n",
    "            # save the cluster center for next iteration\n",
    "            cluster_centers.append(new_clust_center)\n",
    "        \n",
    "    return cluster_labels, np.array(cluster_centers)"
   ]
  },
  {
   "cell_type": "markdown",
   "metadata": {},
   "source": [
    "### generate some random data where visually clusters are obvious to detect\n",
    "then run kMeans on it and plot cluster centers with red"
   ]
  },
  {
   "cell_type": "code",
   "execution_count": null,
   "metadata": {},
   "outputs": [],
   "source": [
    "n_points = 150\n",
    "X = 1 + (-3 * np.random.rand(n_points,2))\n",
    "X1 = 6 + (8 * np.random.rand(int(n_points/3),2))\n",
    "X2 = -8 + (-9 * np.random.rand(int(n_points/3),2))\n",
    "X[50:100, :] = X1\n",
    "X[100:,:] = X2\n",
    "generated_data = X"
   ]
  },
  {
   "cell_type": "code",
   "execution_count": null,
   "metadata": {},
   "outputs": [],
   "source": [
    "# call kMeans here with n_clusters = 3\n",
    "\n",
    "labels, cents = ??\n",
    "plt.scatter(generated_data[:,0], generated_data[:,1])\n",
    "plt.scatter(cents[:,0],cents[:,1], marker='*', s=83, color='red')"
   ]
  },
  {
   "cell_type": "code",
   "execution_count": null,
   "metadata": {},
   "outputs": [],
   "source": [
    "# call kMeans here with n_clusters = 5\n",
    "\n",
    "labels, cents = ??\n",
    "plt.scatter(generated_data[:,0], generated_data[:,1])\n",
    "plt.scatter(cents[:,0],cents[:,1], marker='*', s=83, color='red')"
   ]
  },
  {
   "cell_type": "markdown",
   "metadata": {},
   "source": [
    "## Questions:\n",
    "- In this artificial dataset, we can visually detect that there are three clusters. However, in a real world problem, we do not have this information. As such, how would you go about choosing a value for <code>n_clusters</code> before calling <code>kMeans()</code>?\n",
    "- Comment on the location of cluster centers. Do they make sense even when <code>n_clusters</code> is much higher than or lower than 3?\n",
    "- Can you think of a way to modify the algorithm such that instead of running a fixed <code>n_iter</code> times, it was able to determine when clusters are stable and thus there is no more need to update the centers?\n",
    "- What would happen it <code>n_iter</code> was set to 1?"
   ]
  },
  {
   "cell_type": "code",
   "execution_count": null,
   "metadata": {},
   "outputs": [],
   "source": []
  }
 ],
 "metadata": {
  "kernelspec": {
   "display_name": "Python 3",
   "language": "python",
   "name": "python3"
  },
  "language_info": {
   "codemirror_mode": {
    "name": "ipython",
    "version": 3
   },
   "file_extension": ".py",
   "mimetype": "text/x-python",
   "name": "python",
   "nbconvert_exporter": "python",
   "pygments_lexer": "ipython3",
   "version": "3.6.7"
  }
 },
 "nbformat": 4,
 "nbformat_minor": 2
}
