{
 "cells": [
  {
   "cell_type": "code",
   "execution_count": 17,
   "metadata": {
    "colab": {},
    "colab_type": "code",
    "id": "eRk5KvHpdcW2"
   },
   "outputs": [],
   "source": [
    "from sklearn.datasets import make_regression\n",
    "import numpy as np\n",
    "import matplotlib.pyplot as plt\n",
    "import matplotlib\n",
    "import pandas as pd\n",
    "matplotlib.rcParams['figure.figsize'] = 15,8\n",
    "n_feat = 5"
   ]
  },
  {
   "cell_type": "code",
   "execution_count": 8,
   "metadata": {
    "colab": {},
    "colab_type": "code",
    "id": "gJ82JXx9fdVA"
   },
   "outputs": [],
   "source": [
    "def computeCost(X, y, theta):\n",
    "    m=len(y)\n",
    "    predictions=X.dot(theta)\n",
    "    err=(predictions - y)**2\n",
    "    cost = 0.5 * m * np.sum(err)\n",
    "    return cost\n",
    "\n",
    "def get_prediction(x,theta):\n",
    "    return x.dot(theta)\n",
    "\n",
    "def gradientDescent(X,y,theta,alpha=0.01,num_iters=100):\n",
    "    m=len(y)\n",
    "    costs = []\n",
    "    for i in range(num_iters):\n",
    "        predictions = get_pred(X,theta)\n",
    "        error = np.dot(X.transpose(),(predictions - y))\n",
    "        descent=alpha * 1/m * error\n",
    "        theta-=descent\n",
    "    return theta, costs\n",
    "\n",
    "def get_perf(predicted, actual):\n",
    "    mean_abs_error = np.abs(predicted - actual).mean()\n",
    "    root_mean_sq_error = np.sqrt(((predicted-actual)**2).mean())\n",
    "    mean_val = actual.mean()\n",
    "    r_squared = 1 - ( ((predicted-actual)**2).mean() / ((actual-mean_val)**2).mean() )\n",
    "    \n",
    "    return mean_abs_error, root_mean_sq_error, r_squared"
   ]
  },
  {
   "cell_type": "code",
   "execution_count": null,
   "metadata": {},
   "outputs": [],
   "source": []
  }
 ],
 "metadata": {
  "colab": {
   "collapsed_sections": [],
   "name": "[CG501]_linReg",
   "provenance": [],
   "version": "0.3.2"
  },
  "kernelspec": {
   "display_name": "Python 3",
   "language": "python",
   "name": "python3"
  },
  "language_info": {
   "codemirror_mode": {
    "name": "ipython",
    "version": 3
   },
   "file_extension": ".py",
   "mimetype": "text/x-python",
   "name": "python",
   "nbconvert_exporter": "python",
   "pygments_lexer": "ipython3",
   "version": "3.6.7"
  }
 },
 "nbformat": 4,
 "nbformat_minor": 2
}
